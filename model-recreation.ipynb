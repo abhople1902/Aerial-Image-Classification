{
 "cells": [
  {
   "cell_type": "code",
   "execution_count": null,
   "id": "2984920a",
   "metadata": {},
   "outputs": [],
   "source": [
    "import numpy as np\n",
    "import matplotlib.pyplot as plt\n",
    "from tensorflow.keras.applications.vgg19 import VGG19, preprocess_input\n",
    "from tensorflow.keras.preprocessing import image\n",
    "from tensorflow.keras.layers import Dense\n",
    "from tensorflow.keras.layers import GlobalAveragePooling2D\n",
    "from tensorflow.keras.utils import plot_model\n",
    "from tensorflow.keras.layers import MaxPooling2D,Conv2D\n",
    "from tensorflow.keras.models import Model\n",
    "import tensorflow as tf\n",
    "\n",
    "# Import the necessary libraries to mount Google Drive\n",
    "from google.colab import drive\n",
    "\n",
    "# Load the VGG19 model\n",
    "model = VGG19(weights='imagenet', include_top=True)\n",
    "\n",
    "# Specify the layers for Concatenation\n",
    "layer_name1 = 'block1_pool'\n",
    "layer_name2 = 'block2_pool'\n",
    "layer_name3 = 'block3_pool'\n",
    "layer_name4 = 'block4_pool'\n",
    "\n",
    "# Extract the outputs of the desired layers\n",
    "output1 = model.get_layer(layer_name1).output\n",
    "x= MaxPooling2D(pool_size=(2, 2))(output1)\n",
    "x= MaxPooling2D(pool_size=(2, 2))(x)\n",
    "x= MaxPooling2D(pool_size=(2, 2))(x)\n",
    "output2 = model.get_layer(layer_name2).output\n",
    "x1= MaxPooling2D(pool_size=(2, 2))(output2)\n",
    "x1= MaxPooling2D(pool_size=(2, 2))(x1)\n",
    "x1=Conv2D(64,(1,1), activation='relu')(x1)\n",
    "output3 = model.get_layer(layer_name3).output\n",
    "x2= MaxPooling2D(pool_size=(2, 2))(output3)\n",
    "x2=Conv2D(128,(1,1), activation='relu')(x2)\n",
    "x2=Conv2D(64,(1,1), activation='relu')(x2)\n",
    "output4 = model.get_layer(layer_name4).output\n",
    "x3=Conv2D(256,(1,1), activation='relu')(output4)\n",
    "x3=Conv2D(128,(1,1), activation='relu')(x3)\n",
    "x3=Conv2D(64,(1,1), activation='relu')(x3)\n",
    "\n",
    "# Concatenate the activations of the four layers along the channel axis (axis=-1)\n",
    "concatenated_activations = tf.concat([x, x1,x2,x3], axis=-1)\n",
    "\n",
    "x = GlobalAveragePooling2D()(concatenated_activations)\n",
    "\n",
    "x = Dense(256, activation='relu')(x)\n",
    "output = Dense(30, activation='softmax')(x)\n",
    "\n",
    "model = Model(inputs=model.input, outputs=output)\n",
    "\n",
    "model.summary()\n",
    "plot_model(model=model, show_shapes=True)"
   ]
  }
 ],
 "metadata": {
  "kernelspec": {
   "display_name": "Python 3 (ipykernel)",
   "language": "python",
   "name": "python3"
  },
  "language_info": {
   "codemirror_mode": {
    "name": "ipython",
    "version": 3
   },
   "file_extension": ".py",
   "mimetype": "text/x-python",
   "name": "python",
   "nbconvert_exporter": "python",
   "pygments_lexer": "ipython3",
   "version": "3.11.4"
  }
 },
 "nbformat": 4,
 "nbformat_minor": 5
}
